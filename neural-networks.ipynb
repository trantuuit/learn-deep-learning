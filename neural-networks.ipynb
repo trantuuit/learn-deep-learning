{
 "cells": [
  {
   "cell_type": "code",
   "execution_count": 1,
   "metadata": {},
   "outputs": [],
   "source": [
    "import numpy as np"
   ]
  },
  {
   "cell_type": "markdown",
   "metadata": {},
   "source": [
    "# FORWARD PROPAGATION ALGORITHM"
   ]
  },
  {
   "cell_type": "markdown",
   "metadata": {},
   "source": [
    "<img src=\"image/forward_propagation_1.png\">"
   ]
  },
  {
   "cell_type": "markdown",
   "metadata": {},
   "source": [
    "<img src=\"image/forward_propagation_2.png\">"
   ]
  },
  {
   "cell_type": "markdown",
   "metadata": {},
   "source": [
    "<img src=\"image/forward_propagation_3.png\">"
   ]
  },
  {
   "cell_type": "markdown",
   "metadata": {},
   "source": [
    "<img src=\"image/forward_propagation_4.png\">"
   ]
  },
  {
   "cell_type": "markdown",
   "metadata": {},
   "source": [
    "<img src=\"image/forward_propagation_5.png\">"
   ]
  },
  {
   "cell_type": "code",
   "execution_count": 9,
   "metadata": {},
   "outputs": [],
   "source": [
    "input_data = [\n",
    "    np.array([3,5]),\n",
    "    np.array([1,-1]),\n",
    "    np.array([0,0]),\n",
    "    np.array([8,4])\n",
    "]"
   ]
  },
  {
   "cell_type": "code",
   "execution_count": 10,
   "metadata": {},
   "outputs": [
    {
     "data": {
      "text/plain": [
       "[array([3, 5]), array([ 1, -1]), array([0, 0]), array([8, 4])]"
      ]
     },
     "execution_count": 10,
     "metadata": {},
     "output_type": "execute_result"
    }
   ],
   "source": [
    "input_data"
   ]
  },
  {
   "cell_type": "code",
   "execution_count": 11,
   "metadata": {},
   "outputs": [],
   "source": [
    "weights = {\n",
    "    'node_0': np.array([2,4]),\n",
    "    'node_1': np.array([4,-5]),\n",
    "    'output': np.array([2,7])\n",
    "}"
   ]
  },
  {
   "cell_type": "code",
   "execution_count": 12,
   "metadata": {},
   "outputs": [
    {
     "data": {
      "text/plain": [
       "{'node_0': array([2, 4]), 'node_1': array([ 4, -5]), 'output': array([2, 7])}"
      ]
     },
     "execution_count": 12,
     "metadata": {},
     "output_type": "execute_result"
    }
   ],
   "source": [
    "weights"
   ]
  },
  {
   "cell_type": "markdown",
   "metadata": {},
   "source": [
    "<img src=\"image/RELU1.png\">"
   ]
  },
  {
   "cell_type": "markdown",
   "metadata": {},
   "source": [
    "<img src=\"image/RELU2.png\">"
   ]
  },
  {
   "cell_type": "code",
   "execution_count": 2,
   "metadata": {},
   "outputs": [],
   "source": [
    "def relu(input):\n",
    "    '''Define your relu activation function here'''\n",
    "    # Calculate the value for the output of the relu function: output\n",
    "    output = max(0, input)\n",
    "    \n",
    "    # Return the value just calculated\n",
    "    return(output)"
   ]
  },
  {
   "cell_type": "code",
   "execution_count": 3,
   "metadata": {},
   "outputs": [],
   "source": [
    "def predict_with_network(input_data_row, weights):\n",
    "\n",
    "    # Calculate node 0 value\n",
    "    node_0_input = (input_data_row * weights['node_0']).sum()\n",
    "    node_0_output = relu(node_0_input)\n",
    "\n",
    "    # Calculate node 1 value\n",
    "    node_1_input = (input_data_row * weights['node_1']).sum()\n",
    "    node_1_output = relu(node_1_input)\n",
    "\n",
    "    # Put node values into array: hidden_layer_outputs\n",
    "    hidden_layer_outputs = np.array([node_0_output, node_1_output])\n",
    "    \n",
    "    # Calculate model output\n",
    "    input_to_final_layer = (hidden_layer_outputs * weights['output']).sum()\n",
    "    model_output = relu(input_to_final_layer)\n",
    "    \n",
    "    # Return model output\n",
    "    return(model_output)"
   ]
  },
  {
   "cell_type": "code",
   "execution_count": 18,
   "metadata": {},
   "outputs": [
    {
     "name": "stdout",
     "output_type": "stream",
     "text": [
      "[52, 63, 0, 148]\n"
     ]
    }
   ],
   "source": [
    "# Create empty list to store prediction results\n",
    "results = []\n",
    "for input_data_row in input_data:\n",
    "    # Append prediction to results\n",
    "    results.append(predict_with_network(input_data_row, weights))\n",
    "\n",
    "# Print results\n",
    "print(results)"
   ]
  },
  {
   "cell_type": "markdown",
   "metadata": {},
   "source": [
    "# HOW WEIGHT CHANGES AFFECT ACCURACY"
   ]
  },
  {
   "cell_type": "code",
   "execution_count": 19,
   "metadata": {},
   "outputs": [],
   "source": [
    "from sklearn.metrics import mean_squared_error"
   ]
  },
  {
   "cell_type": "code",
   "execution_count": 20,
   "metadata": {},
   "outputs": [],
   "source": [
    "input_data = [\n",
    "    np.array([0,3]),\n",
    "    np.array([1,2]),\n",
    "    np.array([-1,-2]),\n",
    "    np.array([4,0])\n",
    "]"
   ]
  },
  {
   "cell_type": "code",
   "execution_count": 23,
   "metadata": {},
   "outputs": [],
   "source": [
    "weights_0 = {\n",
    "    'node_0': np.array([2,1]),\n",
    "    'node_1': np.array([1,2]),\n",
    "    'output': np.array([1,1])\n",
    "}\n",
    "\n",
    "weights_1 = {\n",
    "    'node_0': np.array([2,1]),\n",
    "    'node_1': np.array([1.,1.5]),\n",
    "    'output': np.array([1.,1.5])\n",
    "}\n",
    "target_actuals = [1,3,5,7]"
   ]
  },
  {
   "cell_type": "code",
   "execution_count": 24,
   "metadata": {},
   "outputs": [
    {
     "name": "stdout",
     "output_type": "stream",
     "text": [
      "Mean squared error with weights_0: 37.500000\n",
      "Mean squared error with weights_1: 49.890625\n"
     ]
    }
   ],
   "source": [
    "# Create model_output_0 \n",
    "model_output_0 = []\n",
    "# Create model_output_1\n",
    "model_output_1 = []\n",
    "\n",
    "# Loop over input_data\n",
    "for row in input_data:\n",
    "    # Append prediction to model_output_0\n",
    "    model_output_0.append(predict_with_network(row, weights_0))\n",
    "    \n",
    "    # Append prediction to model_output_1\n",
    "    model_output_1.append(predict_with_network(row, weights_1))\n",
    "\n",
    "# Calculate the mean squared error for model_output_0: mse_0\n",
    "mse_0 = mean_squared_error(target_actuals, model_output_0)\n",
    "\n",
    "# Calculate the mean squared error for model_output_1: mse_1\n",
    "mse_1 = mean_squared_error(target_actuals, model_output_1)\n",
    "\n",
    "# Print mse_0 and mse_1\n",
    "print(\"Mean squared error with weights_0: %f\" %mse_0)\n",
    "print(\"Mean squared error with weights_1: %f\" %mse_1)"
   ]
  },
  {
   "cell_type": "markdown",
   "metadata": {},
   "source": [
    "# Optimizing a neural network"
   ]
  },
  {
   "cell_type": "markdown",
   "metadata": {},
   "source": [
    "## calculate slopes and update weights"
   ]
  },
  {
   "cell_type": "markdown",
   "metadata": {},
   "source": [
    "<img src=\"image/gradient_descent_1.png\">"
   ]
  },
  {
   "cell_type": "markdown",
   "metadata": {},
   "source": [
    "<img src=\"image/gradient_descent_2.png\">"
   ]
  },
  {
   "cell_type": "code",
   "execution_count": 25,
   "metadata": {},
   "outputs": [],
   "source": [
    "import numpy as np "
   ]
  },
  {
   "cell_type": "code",
   "execution_count": 26,
   "metadata": {},
   "outputs": [],
   "source": [
    "weights = np.array([1, 2])"
   ]
  },
  {
   "cell_type": "code",
   "execution_count": 27,
   "metadata": {},
   "outputs": [],
   "source": [
    "input_data = np.array([3, 4])"
   ]
  },
  {
   "cell_type": "code",
   "execution_count": 28,
   "metadata": {},
   "outputs": [],
   "source": [
    "target = 6"
   ]
  },
  {
   "cell_type": "code",
   "execution_count": 29,
   "metadata": {},
   "outputs": [],
   "source": [
    "learning_rate = 0.01"
   ]
  },
  {
   "cell_type": "code",
   "execution_count": 30,
   "metadata": {},
   "outputs": [],
   "source": [
    "preds = (weights * input_data).sum() "
   ]
  },
  {
   "cell_type": "code",
   "execution_count": 31,
   "metadata": {},
   "outputs": [],
   "source": [
    "error = preds - target"
   ]
  },
  {
   "cell_type": "code",
   "execution_count": 32,
   "metadata": {},
   "outputs": [
    {
     "data": {
      "text/plain": [
       "5"
      ]
     },
     "execution_count": 32,
     "metadata": {},
     "output_type": "execute_result"
    }
   ],
   "source": [
    "error"
   ]
  },
  {
   "cell_type": "code",
   "execution_count": 33,
   "metadata": {},
   "outputs": [],
   "source": [
    "gradient = 2 * input_data * error "
   ]
  },
  {
   "cell_type": "code",
   "execution_count": 34,
   "metadata": {},
   "outputs": [
    {
     "data": {
      "text/plain": [
       "array([30, 40])"
      ]
     },
     "execution_count": 34,
     "metadata": {},
     "output_type": "execute_result"
    }
   ],
   "source": [
    "gradient"
   ]
  },
  {
   "cell_type": "code",
   "execution_count": 35,
   "metadata": {},
   "outputs": [],
   "source": [
    "weights_updated = weights - learning_rate * gradient "
   ]
  },
  {
   "cell_type": "code",
   "execution_count": 36,
   "metadata": {},
   "outputs": [],
   "source": [
    "preds_updated = (weights_updated * input_data).sum()"
   ]
  },
  {
   "cell_type": "code",
   "execution_count": 37,
   "metadata": {},
   "outputs": [],
   "source": [
    "error_updated = preds_updated - target"
   ]
  },
  {
   "cell_type": "code",
   "execution_count": 38,
   "metadata": {},
   "outputs": [
    {
     "data": {
      "text/plain": [
       "2.5"
      ]
     },
     "execution_count": 38,
     "metadata": {},
     "output_type": "execute_result"
    }
   ],
   "source": [
    "error_updated"
   ]
  },
  {
   "cell_type": "markdown",
   "metadata": {},
   "source": [
    "## Making multiple updates to weights"
   ]
  },
  {
   "cell_type": "code",
   "execution_count": 87,
   "metadata": {},
   "outputs": [],
   "source": [
    "def get_slope(input_data, target, weights):\n",
    "    preds = (input_data * weights).sum()\n",
    "    error = preds - target\n",
    "    slope = 2 * input_data * error\n",
    "    return slope"
   ]
  },
  {
   "cell_type": "code",
   "execution_count": 88,
   "metadata": {},
   "outputs": [
    {
     "data": {
      "text/plain": [
       "array([14, 28, 42])"
      ]
     },
     "execution_count": 88,
     "metadata": {},
     "output_type": "execute_result"
    }
   ],
   "source": [
    "get_slope(input_data, target, weights)"
   ]
  },
  {
   "cell_type": "code",
   "execution_count": 103,
   "metadata": {},
   "outputs": [],
   "source": [
    "def get_squared_error(input_data, target, weights):\n",
    "    preds = (input_data * weights).sum()\n",
    "    error = (preds - target) ** 2\n",
    "    return error"
   ]
  },
  {
   "cell_type": "code",
   "execution_count": 45,
   "metadata": {},
   "outputs": [],
   "source": [
    "import matplotlib.pyplot as plt"
   ]
  },
  {
   "cell_type": "code",
   "execution_count": 105,
   "metadata": {},
   "outputs": [
    {
     "name": "stdout",
     "output_type": "stream",
     "text": [
      "slope = %s [14 28 42]\n",
      "weights = %s [-0.14  1.72  0.58]\n",
      "mse = %s 25.401600000000002\n",
      "slope = %s [10.08 20.16 30.24]\n",
      "weights = %s [-0.2408  1.5184  0.2776]\n",
      "mse = %s 13.16818944\n",
      "slope = %s [ 7.2576 14.5152 21.7728]\n",
      "weights = %s [-0.313376  1.373248  0.059872]\n",
      "mse = %s 6.826389405696002\n",
      "slope = %s [ 5.225472 10.450944 15.676416]\n",
      "weights = %s [-0.36563072  1.26873856 -0.09689216]\n",
      "mse = %s 3.538800267912807\n",
      "slope = %s [ 3.76233984  7.52467968 11.28701952]\n",
      "weights = %s [-0.40325412  1.19349176 -0.20976236]\n",
      "mse = %s 1.834514058885999\n",
      "slope = %s [2.70888468 5.41776937 8.12665405]\n",
      "weights = %s [-0.43034297  1.13931407 -0.2910289 ]\n",
      "mse = %s 0.9510120881265021\n",
      "slope = %s [1.95039697 3.90079395 5.85119092]\n",
      "weights = %s [-0.44984693  1.10030613 -0.3495408 ]\n",
      "mse = %s 0.4930046664847785\n",
      "slope = %s [1.40428582 2.80857164 4.21285746]\n",
      "weights = %s [-0.46388979  1.07222041 -0.39166938]\n",
      "mse = %s 0.2555736191057092\n",
      "slope = %s [1.01108579 2.02217158 3.03325737]\n",
      "weights = %s [-0.47400065  1.0519987  -0.42200195]\n",
      "mse = %s 0.13248936414439966\n",
      "slope = %s [0.72798177 1.45596354 2.18394531]\n",
      "weights = %s [-0.48128047  1.03743906 -0.44384141]\n",
      "mse = %s 0.06868248637245665\n",
      "slope = %s [0.52414687 1.04829375 1.57244062]\n",
      "weights = %s [-0.48652194  1.02695612 -0.45956581]\n",
      "mse = %s 0.035605000935481655\n",
      "slope = %s [0.37738575 0.7547715  1.13215725]\n",
      "weights = %s [-0.4902958   1.01940841 -0.47088739]\n",
      "mse = %s 0.018457632484953686\n",
      "slope = %s [0.27171774 0.54343548 0.81515322]\n",
      "weights = %s [-0.49301297  1.01397406 -0.47903892]\n",
      "mse = %s 0.009568436680199997\n",
      "slope = %s [0.19563677 0.39127354 0.58691032]\n",
      "weights = %s [-0.49496934  1.01006132 -0.48490802]\n",
      "mse = %s 0.004960277575015649\n",
      "slope = %s [0.14085848 0.28171695 0.42257543]\n",
      "weights = %s [-0.49637792  1.00724415 -0.48913377]\n",
      "mse = %s 0.0025714078948881436\n",
      "slope = %s [0.1014181  0.20283621 0.30425431]\n",
      "weights = %s [-0.49739211  1.00521579 -0.49217632]\n",
      "mse = %s 0.0013330178527099956\n",
      "slope = %s [0.07302103 0.14604207 0.2190631 ]\n",
      "weights = %s [-0.49812232  1.00375537 -0.49436695]\n",
      "mse = %s 0.0006910364548448491\n",
      "slope = %s [0.05257514 0.10515029 0.15772543]\n",
      "weights = %s [-0.49864807  1.00270386 -0.4959442 ]\n",
      "mse = %s 0.0003582332981915815\n",
      "slope = %s [0.0378541  0.07570821 0.11356231]\n",
      "weights = %s [-0.49902661  1.00194678 -0.49707983]\n",
      "mse = %s 0.0001857081417825098\n",
      "slope = %s [0.02725495 0.05450991 0.08176486]\n",
      "weights = %s [-0.49929916  1.00140168 -0.49789747]\n",
      "mse = %s 9.627110070005501e-05\n"
     ]
    },
    {
     "data": {
      "image/png": "[encoded data removed]",
      "text/plain": [
       "<Figure size 432x288 with 1 Axes>"
      ]
     },
     "metadata": {
      "needs_background": "light"
     },
     "output_type": "display_data"
    }
   ],
   "source": [
    "input_data = np.array([1, 2, 3])\n",
    "weights = np.array([0, 2, 1])\n",
    "target = 0\n",
    "n_updates = 20\n",
    "se_hist = []\n",
    "\n",
    "# Iterate over the number of updates\n",
    "for i in range(n_updates):\n",
    "    # Calculate the slope: slope\n",
    "    slope = get_slope(input_data, target, weights)\n",
    "    print('slope = %s', slope)\n",
    "    # Update the weights: weights\n",
    "    weights = weights - 0.01 * slope\n",
    "    print('weights = %s', weights)\n",
    "    # Calculate mse with new weights: mse\n",
    "    squared_error = get_squared_error(input_data, target, weights)\n",
    "    print('mse = %s', squared_error)\n",
    "    # Append the mse to mse_hist\n",
    "    se_hist.append(squared_error)\n",
    "\n",
    "# Plot the mse history\n",
    "plt.plot(se_hist)\n",
    "plt.xlabel('Iterations')\n",
    "plt.ylabel('Squared Error')\n",
    "plt.show()"
   ]
  },
  {
   "cell_type": "code",
   "execution_count": 68,
   "metadata": {},
   "outputs": [
    {
     "data": {
      "text/plain": [
       "[0.0,\n",
       " 0.0,\n",
       " 0.0,\n",
       " 0.0,\n",
       " 0.0,\n",
       " 0.0,\n",
       " 0.0,\n",
       " 0.0,\n",
       " 0.0,\n",
       " 0.0,\n",
       " 0.0,\n",
       " 0.0,\n",
       " 0.0,\n",
       " 0.0,\n",
       " 0.0,\n",
       " 0.0,\n",
       " 0.0,\n",
       " 0.0,\n",
       " 0.0,\n",
       " 0.0]"
      ]
     },
     "execution_count": 68,
     "metadata": {},
     "output_type": "execute_result"
    }
   ],
   "source": [
    "mse_hist"
   ]
  }
 ],
 "metadata": {
  "kernelspec": {
   "display_name": "Python 3",
   "language": "python",
   "name": "python3"
  },
  "language_info": {
   "codemirror_mode": {
    "name": "ipython",
    "version": 3
   },
   "file_extension": ".py",
   "mimetype": "text/x-python",
   "name": "python",
   "nbconvert_exporter": "python",
   "pygments_lexer": "ipython3",
   "version": "3.6.8"
  },
  "toc": {
   "base_numbering": 1,
   "nav_menu": {},
   "number_sections": true,
   "sideBar": true,
   "skip_h1_title": false,
   "title_cell": "Table of Contents",
   "title_sidebar": "Contents",
   "toc_cell": false,
   "toc_position": {},
   "toc_section_display": true,
   "toc_window_display": false
  }
 },
 "nbformat": 4,
 "nbformat_minor": 2
}
